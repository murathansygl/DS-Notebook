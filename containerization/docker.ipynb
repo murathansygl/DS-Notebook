{
 "cells": [
  {
   "cell_type": "code",
   "execution_count": null,
   "metadata": {},
   "outputs": [],
   "source": []
  },
  {
   "cell_type": "markdown",
   "metadata": {},
   "source": [
    "docker pull scorenexus.isbank:8443/aihelloworldui/backend\n",
    "docker create\n",
    "docker run\n",
    "docker start\n",
    "docker stop \n",
    "docker pause\n",
    "docker unpause\n"
   ]
  }
 ],
 "metadata": {
  "language_info": {
   "name": "python"
  },
  "orig_nbformat": 4
 },
 "nbformat": 4,
 "nbformat_minor": 2
}
